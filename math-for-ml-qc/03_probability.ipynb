{
 "cells": [
  {
   "cell_type": "markdown",
   "metadata": {},
   "source": [
    "# Math4ML Webinar III: Probability"
   ]
  },
  {
   "cell_type": "markdown",
   "metadata": {
    "colab_type": "text",
    "id": "Hg3cotCfruZP"
   },
   "source": [
    "# Setup Code"
   ]
  },
  {
   "cell_type": "code",
   "execution_count": null,
   "metadata": {},
   "outputs": [],
   "source": [
    "# allows interactive plotting\n",
    "%matplotlib widget \n",
    "\n",
    "# importing from standard library\n",
    "import random\n",
    "import sys\n",
    "\n",
    "# importing libraries\n",
    "import IPython\n",
    "import matplotlib.pyplot as plt\n",
    "import numpy as np\n",
    "\n",
    "# importing course-specific modules\n",
    "import util\n",
    "import probability as prob"
   ]
  },
  {
   "cell_type": "markdown",
   "metadata": {},
   "source": [
    "# Visualizing and Minimizing Surprises"
   ]
  },
  {
   "cell_type": "markdown",
   "metadata": {},
   "source": [
    "In machine learning,\n",
    "we often devise complex models that implement high-dimensional\n",
    "and/or highly non-linear functions of the inputs.\n",
    "\n",
    "While this brings a lot of power,\n",
    "it often obscures the central concepts,\n",
    "like the surprise,\n",
    "aka negative log probabilty.\n",
    "\n",
    "In these two examples, we'll consider a very simple model:\n",
    "one that takes no inputs and produces a single value.\n",
    "\n",
    "Informally, we implicitly make these sorts of simple models\n",
    "without realizing it all the time:\n",
    "for example, whenever we summarize polling data by saying\n",
    "something like \"53% +/- 1 of those surveyed approved\".\n",
    "\n",
    "Similarly, any time we calculate the mean $\\mu$\n",
    "and standard deviation, $\\sigma$, of a dataset,\n",
    "and summarize the result as $\\mu+/-\\sigma$,\n",
    "we've formed a model,\n",
    "and we've actually minimized a surprise,\n",
    "or maximized a likelihood.\n",
    "\n",
    "Below, we'll examine that relationship."
   ]
  },
  {
   "cell_type": "markdown",
   "metadata": {},
   "source": [
    "## Artisanal, Hand-Tuned, Small-Batch Data Science"
   ]
  },
  {
   "cell_type": "markdown",
   "metadata": {},
   "source": [
    "Typically, we minimize the surprises of our models with algorithms,\n",
    "like gradient descent.\n",
    "As a special case, this includes calculating the best model parameters directly.\n",
    "\n",
    "But there's nothing to say we couldn't do it ourselves!\n",
    "\n",
    "The cell below generates an interactive plot showing a histogram of some data\n",
    "and a tuneable Gaussian density.\n",
    "By adjusting the sliders,\n",
    "you can move the center of this distribution and change its spread.\n",
    "Underneath, the surprise is printed.\n",
    "\n",
    "It is calculated by taking the average of the logarithm of the Gaussian density,\n",
    "evaluated at each of the values in `data`."
   ]
  },
  {
   "cell_type": "code",
   "execution_count": null,
   "metadata": {},
   "outputs": [],
   "source": [
    "true_mu = -1.; true_sigma = 0.5; N = 20;\n",
    "data = true_sigma * np.random.standard_normal(size=N) + true_mu\n",
    "\n",
    "\n",
    "fitter = prob.mle.make_gauss_fitter(data, true_mu, true_sigma)\n",
    "prob.mle.make_interactor(fitter, mu_lims=[-10, 10], sigma_lims=[1e-1, 10]);"
   ]
  },
  {
   "cell_type": "markdown",
   "metadata": {},
   "source": [
    "To begin, make the surprise as low as possible."
   ]
  },
  {
   "cell_type": "markdown",
   "metadata": {},
   "source": [
    "You might check in which direction the surprise goes down,\n",
    "for each parameter, and move one step in that direction.\n",
    "This is the by-hand version of the algorithm\n",
    "[coordinate descent](https://en.wikipedia.org/wiki/Coordinate_descent)."
   ]
  },
  {
   "cell_type": "markdown",
   "metadata": {},
   "source": [
    "#### Q Spatially, how do the probability density and the data relate at this point? Is the density high or low  where the histogram indicates the presence of more data points?"
   ]
  },
  {
   "cell_type": "markdown",
   "metadata": {},
   "source": [
    "By default, the values of $\\mu$ and $\\sigma$ used to generate\n",
    "the data are `0` and `0.5`,\n",
    "respectively."
   ]
  },
  {
   "cell_type": "markdown",
   "metadata": {},
   "source": [
    "#### Q Is the value you landed on equal to these \"ground truth\" values? Do you find this surprising?"
   ]
  },
  {
   "cell_type": "markdown",
   "metadata": {},
   "source": [
    "The cell below computes the mean and standard deviation of the data."
   ]
  },
  {
   "cell_type": "code",
   "execution_count": null,
   "metadata": {},
   "outputs": [],
   "source": [
    "np.mean(data), np.std(data)"
   ]
  },
  {
   "cell_type": "markdown",
   "metadata": {},
   "source": [
    "Input these numbers as values for $\\mu$ and $\\sigma$\n",
    "by clicking the values next to the sliders and typing (or copy-pasting) them in.\n",
    "\n",
    "#### Q Is the surprise higher or lower than the surprise you found by hand? Relate this finding to the statement above, that every time we summarize data by the mean and standard deviation, we've minimized the surprise of a model."
   ]
  },
  {
   "cell_type": "markdown",
   "metadata": {},
   "source": [
    "Increase the value of `N`,\n",
    "which sets the total number of values in `data`,\n",
    "by at least an order of magnitude, e.g. to `200`.\n",
    "\n",
    "Then fit the model again, by minimizing the surprise."
   ]
  },
  {
   "cell_type": "markdown",
   "metadata": {},
   "source": [
    "#### Q Are the values you found the same? Are they closer to or further from the \"true\" values?"
   ]
  },
  {
   "cell_type": "markdown",
   "metadata": {},
   "source": [
    "Increase the value of `N` by another order of magnitude."
   ]
  },
  {
   "cell_type": "markdown",
   "metadata": {},
   "source": [
    "#### Q Are the values of $\\mu$ and $\\sigma$ now closer or further from the values used to generate the data?"
   ]
  },
  {
   "cell_type": "markdown",
   "metadata": {},
   "source": [
    "#### Q What happens to the surprise if you reduce $\\sigma$ to extremely values, e.g. 1e-3?"
   ]
  },
  {
   "cell_type": "markdown",
   "metadata": {},
   "source": [
    "## Visualizing the Surprise as a Function of the Parameters"
   ]
  },
  {
   "cell_type": "markdown",
   "metadata": {},
   "source": [
    "The section above visualized the surprise as a function of the data values:\n",
    "$$\n",
    "s(x; \\mu, \\sigma) = -\\log(p(x; \\mu, \\sigma))\n",
    "$$\n",
    "where $p(\\cdot; \\mu, \\sigma)$\n",
    "is the probability density associated with the parameters\n",
    "$\\mu$ and $\\sigma$,\n",
    "which assigns a probability to all possible observations.\n",
    "\n",
    "But when we are working with models,\n",
    "we aren't concerned directly with the \n",
    "probabilities of observing data points --\n",
    "the data has already been observed.\n",
    "\n",
    "We are instead interested in which parameters\n",
    "to use to help us model the data,\n",
    "and so are interested in $s$ as a function of $\\mu$ and $\\sigma$ instead.\n",
    "\n",
    "In the jargon of machine learning, an object like that,\n",
    "which is a probability density when thought of as a function over data values\n",
    "but which we're thinking of as a function over parameter values,\n",
    "is called a _likelihood_.\n",
    "\n",
    "The cell below visualizes the surprise of the same, simple model\n",
    "as function of a single parameter, $\\mu$,\n",
    "that is, as a negative logarithm of the likelihood.\n",
    "\n",
    "This is the quantity which we are minimizing when we git models.\n",
    "\n",
    "Before proceeding, return to the data generation cell above\n",
    "and change `N` back to `20`.\n",
    "\n",
    "Then execute the cell below."
   ]
  },
  {
   "cell_type": "code",
   "execution_count": null,
   "metadata": {},
   "outputs": [],
   "source": [
    "prob.mle.make_plot(data, num_gaussians=5, true_mu=true_mu);\n",
    "\n",
    "print(\"The surprise-minimizing estimate for µ is \"+str(np.mean(data)))\n",
    "print(\"The value of µ used to generate the data is \"+str(true_mu))"
   ]
  },
  {
   "cell_type": "markdown",
   "metadata": {},
   "source": [
    "#### Q What is type of function is the model surprise in the top panel (e.g. trigonometric,  exponential, linear)? Can you explain why it has that shape?"
   ]
  },
  {
   "cell_type": "markdown",
   "metadata": {},
   "source": [
    "The surprise-minimizing value of $\\mu$ is indicated by a star."
   ]
  },
  {
   "cell_type": "markdown",
   "metadata": {},
   "source": [
    "#### Q Relate the fact that this value minimizes the surprise to the features of the graph of the surprise."
   ]
  },
  {
   "cell_type": "markdown",
   "metadata": {},
   "source": [
    "If you are familiar with gradient descent, answer the question below."
   ]
  },
  {
   "cell_type": "markdown",
   "metadata": {},
   "source": [
    "#### Q Explain why a gradient descent-based method for minimizing the surprise is attracted to this point and why it does not leave once it reaches it."
   ]
  },
  {
   "cell_type": "markdown",
   "metadata": {},
   "source": [
    "Re-run this cell after increasing the value of `N` by at least an order of magnitude.\n",
    "If the answer is unclear, consider increasing `N` even more.\n",
    "\n",
    "#### Q Does the general shape of the surprise change with the value of `N`? What, if anything, does change about it?"
   ]
  },
  {
   "cell_type": "markdown",
   "metadata": {},
   "source": [
    "# The Central Limit Theorem In Action"
   ]
  },
  {
   "cell_type": "markdown",
   "metadata": {},
   "source": [
    "The previous example used, as do many machine learning models,\n",
    "a Gaussian density for the model surprise,\n",
    "which corresponds to using the squared error for the loss function.\n",
    "\n",
    "This choice is convenient, but is it justified?\n",
    "\n",
    "The classic justification for it is as follows:\n",
    "the things we aren't measuring and including in our model are\n",
    "- **numerous** -- any model is a massive simplification of the real world\n",
    "- **independent or weakly dependent** -- otherwise we might summarize them into a single measurement and include that in our model\n",
    "- **of roughly equal magnitude** -- if there are a small number with larger magntiude (variance), we also might include them in our model\n",
    "- **combine additively** -- lots of physical processes behave this way\n",
    "\n",
    "When all of these things hold,\n",
    "the errors introduced by the things we aren't measuring\n",
    "will have an appxroximately Gaussian distribution.\n",
    "This is the Limit Theorem so important it gets to be called\n",
    "the _Central Limit Theorem_.\n",
    "\n",
    "The cells below demonstrate this theorem in action for a few different probability distributions.\n",
    "\n",
    "Specifically, they show that if we look at the distribution obtained by adding\n",
    "a whole colection of random variables, each of which has the same distribution,\n",
    "we will see a Gaussian."
   ]
  },
  {
   "cell_type": "code",
   "execution_count": null,
   "metadata": {},
   "outputs": [],
   "source": [
    "coin_flip = [0.5, 0.5] # heads, tails. \"adding up\" means counting how many tails you get\n",
    "d6_roll = [0] + [1/6] * 6 # a six-sided die.\n",
    "d20_roll = [0] + [1/20] * 20 # roll for initiative!\n",
    "wonky_pmf = [1/2, 1/8] + [1/100] * 10 + [3/8 - 1/10]  # even very uneven distributions work\n",
    "your_pmf_here = [] # write your own! must sum to ~1, all values >=0 and < 1"
   ]
  },
  {
   "cell_type": "markdown",
   "metadata": {},
   "source": [
    "This cell selects a distribution\n",
    "(more specifically, a `p`robability `m`ass `f`unction)\n",
    "and number of times it should be added.\n",
    "\n",
    "Values higher than `30` should be avoided."
   ]
  },
  {
   "cell_type": "code",
   "execution_count": null,
   "metadata": {},
   "outputs": [],
   "source": [
    "pmf, iters = coin_flip, 10"
   ]
  },
  {
   "cell_type": "markdown",
   "metadata": {},
   "source": [
    "This cell visualizes the distribution.\n",
    "\n",
    "Note that none are shaped anything like a Gaussian!"
   ]
  },
  {
   "cell_type": "code",
   "execution_count": null,
   "metadata": {},
   "outputs": [],
   "source": [
    "plt.figure(); plt.bar(range(len(pmf)), pmf)\n",
    "plt.title(\"Probability Distribution\")\n",
    "plt.ylabel(\"Probability\"); plt.xlabel(\"Value\");"
   ]
  },
  {
   "cell_type": "markdown",
   "metadata": {},
   "source": [
    "This final cell produces a short animation showing the evolution of the distribution\n",
    "as more and more variables are added together."
   ]
  },
  {
   "cell_type": "code",
   "execution_count": null,
   "metadata": {},
   "outputs": [],
   "source": [
    "anim_html = prob.clt.setup_and_run_animation(pmf, iters)\n",
    "\n",
    "IPython.display.HTML(anim_html)"
   ]
  },
  {
   "cell_type": "markdown",
   "metadata": {},
   "source": [
    "#### Q How many iterations would you say it takes for each example to \"converge\" to the limit and appear approximately Gaussian?"
   ]
  },
  {
   "cell_type": "markdown",
   "metadata": {},
   "source": [
    "Though all get there in the end, some take longer than others.\n",
    "\n",
    "#### Q Of the four provided `pmf`s, which takes the longest to resemble a Gaussian? Can you articulate what about it seems to cause the issue?"
   ]
  }
 ],
 "metadata": {
  "colab": {
   "name": "Colab - Math4ML II: Calculus.ipynb",
   "provenance": []
  },
  "kernelspec": {
   "display_name": "Python 3",
   "language": "python",
   "name": "python3"
  },
  "language_info": {
   "codemirror_mode": {
    "name": "ipython",
    "version": 3
   },
   "file_extension": ".py",
   "mimetype": "text/x-python",
   "name": "python",
   "nbconvert_exporter": "python",
   "pygments_lexer": "ipython3",
   "version": "3.6.8"
  },
  "widgets": {
   "application/vnd.jupyter.widget-state+json": {
    "06a2e02685114cf58bc215760c34dca3": {
     "model_module": "@jupyter-widgets/controls",
     "model_name": "FloatSliderModel",
     "state": {
      "_dom_classes": [],
      "_model_module": "@jupyter-widgets/controls",
      "_model_module_version": "1.5.0",
      "_model_name": "FloatSliderModel",
      "_view_count": null,
      "_view_module": "@jupyter-widgets/controls",
      "_view_module_version": "1.5.0",
      "_view_name": "FloatSliderView",
      "continuous_update": true,
      "description": "m",
      "description_tooltip": null,
      "disabled": false,
      "layout": "IPY_MODEL_2956a04ae7a24cbf91234dc7544377e9",
      "max": 10,
      "min": -10,
      "orientation": "horizontal",
      "readout": true,
      "readout_format": ".2f",
      "step": 0.1,
      "style": "IPY_MODEL_3803e4c702cf4e8fb6d23bf4bfc5e41a",
      "value": 0
     }
    },
    "12097194f936412fb14269ebd1f3cb69": {
     "model_module": "@jupyter-widgets/output",
     "model_name": "OutputModel",
     "state": {
      "_dom_classes": [],
      "_model_module": "@jupyter-widgets/output",
      "_model_module_version": "1.0.0",
      "_model_name": "OutputModel",
      "_view_count": null,
      "_view_module": "@jupyter-widgets/output",
      "_view_module_version": "1.0.0",
      "_view_name": "OutputView",
      "layout": "IPY_MODEL_98542294f506402fb75610546fa35377",
      "msg_id": "",
      "outputs": []
     }
    },
    "17cd1bdb77804165a392a5c2e8f1cd93": {
     "model_module": "@jupyter-widgets/controls",
     "model_name": "ProgressStyleModel",
     "state": {
      "_model_module": "@jupyter-widgets/controls",
      "_model_module_version": "1.5.0",
      "_model_name": "ProgressStyleModel",
      "_view_count": null,
      "_view_module": "@jupyter-widgets/base",
      "_view_module_version": "1.2.0",
      "_view_name": "StyleView",
      "bar_color": null,
      "description_width": "initial"
     }
    },
    "2937c170c0ae4a3b9c4f039b77cf7f8b": {
     "model_module": "@jupyter-widgets/base",
     "model_name": "LayoutModel",
     "state": {
      "_model_module": "@jupyter-widgets/base",
      "_model_module_version": "1.2.0",
      "_model_name": "LayoutModel",
      "_view_count": null,
      "_view_module": "@jupyter-widgets/base",
      "_view_module_version": "1.2.0",
      "_view_name": "LayoutView",
      "align_content": null,
      "align_items": null,
      "align_self": null,
      "border": null,
      "bottom": null,
      "display": null,
      "flex": null,
      "flex_flow": null,
      "grid_area": null,
      "grid_auto_columns": null,
      "grid_auto_flow": null,
      "grid_auto_rows": null,
      "grid_column": null,
      "grid_gap": null,
      "grid_row": null,
      "grid_template_areas": null,
      "grid_template_columns": null,
      "grid_template_rows": null,
      "height": null,
      "justify_content": null,
      "justify_items": null,
      "left": null,
      "margin": null,
      "max_height": null,
      "max_width": null,
      "min_height": null,
      "min_width": null,
      "object_fit": null,
      "object_position": null,
      "order": null,
      "overflow": null,
      "overflow_x": null,
      "overflow_y": null,
      "padding": null,
      "right": null,
      "top": null,
      "visibility": null,
      "width": null
     }
    },
    "2956a04ae7a24cbf91234dc7544377e9": {
     "model_module": "@jupyter-widgets/base",
     "model_name": "LayoutModel",
     "state": {
      "_model_module": "@jupyter-widgets/base",
      "_model_module_version": "1.2.0",
      "_model_name": "LayoutModel",
      "_view_count": null,
      "_view_module": "@jupyter-widgets/base",
      "_view_module_version": "1.2.0",
      "_view_name": "LayoutView",
      "align_content": null,
      "align_items": null,
      "align_self": null,
      "border": null,
      "bottom": null,
      "display": null,
      "flex": null,
      "flex_flow": null,
      "grid_area": null,
      "grid_auto_columns": null,
      "grid_auto_flow": null,
      "grid_auto_rows": null,
      "grid_column": null,
      "grid_gap": null,
      "grid_row": null,
      "grid_template_areas": null,
      "grid_template_columns": null,
      "grid_template_rows": null,
      "height": null,
      "justify_content": null,
      "justify_items": null,
      "left": null,
      "margin": null,
      "max_height": null,
      "max_width": null,
      "min_height": null,
      "min_width": null,
      "object_fit": null,
      "object_position": null,
      "order": null,
      "overflow": null,
      "overflow_x": null,
      "overflow_y": null,
      "padding": null,
      "right": null,
      "top": null,
      "visibility": null,
      "width": null
     }
    },
    "30a10f3d33024c319e3b32c10016fca7": {
     "model_module": "@jupyter-widgets/base",
     "model_name": "LayoutModel",
     "state": {
      "_model_module": "@jupyter-widgets/base",
      "_model_module_version": "1.2.0",
      "_model_name": "LayoutModel",
      "_view_count": null,
      "_view_module": "@jupyter-widgets/base",
      "_view_module_version": "1.2.0",
      "_view_name": "LayoutView",
      "align_content": null,
      "align_items": null,
      "align_self": null,
      "border": null,
      "bottom": null,
      "display": null,
      "flex": null,
      "flex_flow": null,
      "grid_area": null,
      "grid_auto_columns": null,
      "grid_auto_flow": null,
      "grid_auto_rows": null,
      "grid_column": null,
      "grid_gap": null,
      "grid_row": null,
      "grid_template_areas": null,
      "grid_template_columns": null,
      "grid_template_rows": null,
      "height": null,
      "justify_content": null,
      "justify_items": null,
      "left": null,
      "margin": null,
      "max_height": null,
      "max_width": null,
      "min_height": null,
      "min_width": null,
      "object_fit": null,
      "object_position": null,
      "order": null,
      "overflow": null,
      "overflow_x": null,
      "overflow_y": null,
      "padding": null,
      "right": null,
      "top": null,
      "visibility": null,
      "width": null
     }
    },
    "3803e4c702cf4e8fb6d23bf4bfc5e41a": {
     "model_module": "@jupyter-widgets/controls",
     "model_name": "SliderStyleModel",
     "state": {
      "_model_module": "@jupyter-widgets/controls",
      "_model_module_version": "1.5.0",
      "_model_name": "SliderStyleModel",
      "_view_count": null,
      "_view_module": "@jupyter-widgets/base",
      "_view_module_version": "1.2.0",
      "_view_name": "StyleView",
      "description_width": "",
      "handle_color": null
     }
    },
    "552caebd65934cb5ade43e45627a1bfd": {
     "model_module": "jupyter-matplotlib",
     "model_name": "MPLCanvasModel",
     "state": {
      "_cursor": "pointer",
      "_dom_classes": [],
      "_figure_label": "Figure",
      "_height": 0,
      "_image_mode": "full",
      "_message": "",
      "_model_module": "jupyter-matplotlib",
      "_model_module_version": "^0.7.2",
      "_model_name": "MPLCanvasModel",
      "_rubberband_height": 0,
      "_rubberband_width": 0,
      "_rubberband_x": 0,
      "_rubberband_y": 0,
      "_view_count": null,
      "_view_module": "jupyter-matplotlib",
      "_view_module_version": "^0.7.2",
      "_view_name": "MPLCanvasView",
      "_width": 0,
      "footer_visible": true,
      "header_visible": true,
      "layout": "IPY_MODEL_993e3e5493e74e869a26170b4a68f872",
      "resizable": true,
      "toolbar": "IPY_MODEL_4cfbcc54edb2418fa50890c1a85b75ea",
      "toolbar_position": "left",
      "toolbar_visible": true
     }
    },
    "6a7b5465702a449b8f8455a0476a0564": {
     "model_module": "@jupyter-widgets/controls",
     "model_name": "HTMLModel",
     "state": {
      "_dom_classes": [],
      "_model_module": "@jupyter-widgets/controls",
      "_model_module_version": "1.5.0",
      "_model_name": "HTMLModel",
      "_view_count": null,
      "_view_module": "@jupyter-widgets/controls",
      "_view_module_version": "1.5.0",
      "_view_name": "HTMLView",
      "description": "",
      "description_tooltip": null,
      "layout": "IPY_MODEL_79def2c48fd14d8c99841e11167c1a5e",
      "placeholder": "​",
      "style": "IPY_MODEL_ae9e91cf8ba846189d15fe22d717f89d",
      "value": " 97.8M/97.8M [00:00&lt;00:00, 200MB/s]"
     }
    },
    "79def2c48fd14d8c99841e11167c1a5e": {
     "model_module": "@jupyter-widgets/base",
     "model_name": "LayoutModel",
     "state": {
      "_model_module": "@jupyter-widgets/base",
      "_model_module_version": "1.2.0",
      "_model_name": "LayoutModel",
      "_view_count": null,
      "_view_module": "@jupyter-widgets/base",
      "_view_module_version": "1.2.0",
      "_view_name": "LayoutView",
      "align_content": null,
      "align_items": null,
      "align_self": null,
      "border": null,
      "bottom": null,
      "display": null,
      "flex": null,
      "flex_flow": null,
      "grid_area": null,
      "grid_auto_columns": null,
      "grid_auto_flow": null,
      "grid_auto_rows": null,
      "grid_column": null,
      "grid_gap": null,
      "grid_row": null,
      "grid_template_areas": null,
      "grid_template_columns": null,
      "grid_template_rows": null,
      "height": null,
      "justify_content": null,
      "justify_items": null,
      "left": null,
      "margin": null,
      "max_height": null,
      "max_width": null,
      "min_height": null,
      "min_width": null,
      "object_fit": null,
      "object_position": null,
      "order": null,
      "overflow": null,
      "overflow_x": null,
      "overflow_y": null,
      "padding": null,
      "right": null,
      "top": null,
      "visibility": null,
      "width": null
     }
    },
    "822ab2411b874e42a64786a77584921e": {
     "model_module": "@jupyter-widgets/controls",
     "model_name": "VBoxModel",
     "state": {
      "_dom_classes": [
       "widget-interact"
      ],
      "_model_module": "@jupyter-widgets/controls",
      "_model_module_version": "1.5.0",
      "_model_name": "VBoxModel",
      "_view_count": null,
      "_view_module": "@jupyter-widgets/controls",
      "_view_module_version": "1.5.0",
      "_view_name": "VBoxView",
      "box_style": "",
      "children": [
       "IPY_MODEL_06a2e02685114cf58bc215760c34dca3",
       "IPY_MODEL_12097194f936412fb14269ebd1f3cb69"
      ],
      "layout": "IPY_MODEL_30a10f3d33024c319e3b32c10016fca7"
     }
    },
    "93fb187a0f2042a9aaaf91670a8223fd": {
     "model_module": "@jupyter-widgets/base",
     "model_name": "LayoutModel",
     "state": {
      "_model_module": "@jupyter-widgets/base",
      "_model_module_version": "1.2.0",
      "_model_name": "LayoutModel",
      "_view_count": null,
      "_view_module": "@jupyter-widgets/base",
      "_view_module_version": "1.2.0",
      "_view_name": "LayoutView",
      "align_content": null,
      "align_items": null,
      "align_self": null,
      "border": null,
      "bottom": null,
      "display": null,
      "flex": null,
      "flex_flow": null,
      "grid_area": null,
      "grid_auto_columns": null,
      "grid_auto_flow": null,
      "grid_auto_rows": null,
      "grid_column": null,
      "grid_gap": null,
      "grid_row": null,
      "grid_template_areas": null,
      "grid_template_columns": null,
      "grid_template_rows": null,
      "height": null,
      "justify_content": null,
      "justify_items": null,
      "left": null,
      "margin": null,
      "max_height": null,
      "max_width": null,
      "min_height": null,
      "min_width": null,
      "object_fit": null,
      "object_position": null,
      "order": null,
      "overflow": null,
      "overflow_x": null,
      "overflow_y": null,
      "padding": null,
      "right": null,
      "top": null,
      "visibility": null,
      "width": null
     }
    },
    "98542294f506402fb75610546fa35377": {
     "model_module": "@jupyter-widgets/base",
     "model_name": "LayoutModel",
     "state": {
      "_model_module": "@jupyter-widgets/base",
      "_model_module_version": "1.2.0",
      "_model_name": "LayoutModel",
      "_view_count": null,
      "_view_module": "@jupyter-widgets/base",
      "_view_module_version": "1.2.0",
      "_view_name": "LayoutView",
      "align_content": null,
      "align_items": null,
      "align_self": null,
      "border": null,
      "bottom": null,
      "display": null,
      "flex": null,
      "flex_flow": null,
      "grid_area": null,
      "grid_auto_columns": null,
      "grid_auto_flow": null,
      "grid_auto_rows": null,
      "grid_column": null,
      "grid_gap": null,
      "grid_row": null,
      "grid_template_areas": null,
      "grid_template_columns": null,
      "grid_template_rows": null,
      "height": null,
      "justify_content": null,
      "justify_items": null,
      "left": null,
      "margin": null,
      "max_height": null,
      "max_width": null,
      "min_height": null,
      "min_width": null,
      "object_fit": null,
      "object_position": null,
      "order": null,
      "overflow": null,
      "overflow_x": null,
      "overflow_y": null,
      "padding": null,
      "right": null,
      "top": null,
      "visibility": null,
      "width": null
     }
    },
    "ae9e91cf8ba846189d15fe22d717f89d": {
     "model_module": "@jupyter-widgets/controls",
     "model_name": "DescriptionStyleModel",
     "state": {
      "_model_module": "@jupyter-widgets/controls",
      "_model_module_version": "1.5.0",
      "_model_name": "DescriptionStyleModel",
      "_view_count": null,
      "_view_module": "@jupyter-widgets/base",
      "_view_module_version": "1.2.0",
      "_view_name": "StyleView",
      "description_width": ""
     }
    },
    "b804201f62ec4876a58f98e4c26c1b08": {
     "model_module": "@jupyter-widgets/controls",
     "model_name": "HBoxModel",
     "state": {
      "_dom_classes": [],
      "_model_module": "@jupyter-widgets/controls",
      "_model_module_version": "1.5.0",
      "_model_name": "HBoxModel",
      "_view_count": null,
      "_view_module": "@jupyter-widgets/controls",
      "_view_module_version": "1.5.0",
      "_view_name": "HBoxView",
      "box_style": "",
      "children": [
       "IPY_MODEL_c40d592715574407949c8052783da7e2",
       "IPY_MODEL_6a7b5465702a449b8f8455a0476a0564"
      ],
      "layout": "IPY_MODEL_2937c170c0ae4a3b9c4f039b77cf7f8b"
     }
    },
    "b83058f6b6f445a3a7d2203358735ae4": {
     "model_module": "jupyter-matplotlib",
     "model_name": "MPLCanvasModel",
     "state": {
      "_cursor": "pointer",
      "_dom_classes": [],
      "_figure_label": "Figure",
      "_height": 0,
      "_image_mode": "full",
      "_message": "",
      "_model_module": "jupyter-matplotlib",
      "_model_module_version": "^0.7.2",
      "_model_name": "MPLCanvasModel",
      "_rubberband_height": 0,
      "_rubberband_width": 0,
      "_rubberband_x": 0,
      "_rubberband_y": 0,
      "_view_count": null,
      "_view_module": "jupyter-matplotlib",
      "_view_module_version": "^0.7.2",
      "_view_name": "MPLCanvasView",
      "_width": 0,
      "footer_visible": true,
      "header_visible": true,
      "layout": "IPY_MODEL_e574816d9654486abae7ebddd58d6a14",
      "resizable": true,
      "toolbar": "IPY_MODEL_abc39ada8ee94a9a92aecb24a263342b",
      "toolbar_position": "left",
      "toolbar_visible": true
     }
    },
    "c40d592715574407949c8052783da7e2": {
     "model_module": "@jupyter-widgets/controls",
     "model_name": "FloatProgressModel",
     "state": {
      "_dom_classes": [],
      "_model_module": "@jupyter-widgets/controls",
      "_model_module_version": "1.5.0",
      "_model_name": "FloatProgressModel",
      "_view_count": null,
      "_view_module": "@jupyter-widgets/controls",
      "_view_module_version": "1.5.0",
      "_view_name": "ProgressView",
      "bar_style": "success",
      "description": "100%",
      "description_tooltip": null,
      "layout": "IPY_MODEL_93fb187a0f2042a9aaaf91670a8223fd",
      "max": 102502400,
      "min": 0,
      "orientation": "horizontal",
      "style": "IPY_MODEL_17cd1bdb77804165a392a5c2e8f1cd93",
      "value": 102502400
     }
    }
   }
  }
 },
 "nbformat": 4,
 "nbformat_minor": 4
}
